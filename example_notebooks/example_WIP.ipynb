{
 "cells": [
  {
   "cell_type": "markdown",
   "id": "3c00b7ed-6b55-4d97-92f1-bfad35b4937f",
   "metadata": {},
   "source": [
    "# Atomic resolution STEM data analysis\n",
    "\n",
    "In this part of the tutorial, we will apply a variety of atomic resolution image processing techniques to analyze a STEM image of a perovskite Nd$_{0.5}$Sr$_{0.5}$MnO$_3$ thin film. We will use the `kemstem` package ([github](https://github.com/noahschnitzer/kemstem)), which can be installed on your own computer with `pip install kemstem`. \n",
    "\n",
    "In particular, we will:\n",
    "* Fourier filter the image to identify structural domains\n",
    "* Measure the strain field across the image\n",
    "* Identify the A-site atomic columns in the image and fit them\n",
    "* Measure periodic lattice displacements driven by charge ordering in the film with a specialized Fourier analysis technique\n",
    "\n",
    "Alternative tools for atomic resolution image processing which may also be useful but won't be introduced here include:\n",
    "* [atomap](https://atomap.org/)\n",
    "* [stemtool](https://github.com/stemtool/stemtool)\n",
    "\n",
    "The data used for this tutorial is from the publication [El Baggari, I., Baek, D. J., Zachman, M. J., Lu, D., Hikita, Y., Hwang, H. Y., ... & Kourkoutis, L. F. (2021). Charge order textures induced by non-linear couplings in a half-doped manganite. Nature communications, 12(1), 3747.](https://doi.org/10.1038/s41467-021-24026-7)\n",
    "\n",
    "## [Download the data through PARADIM](https://data.paradim.org/doi/bg5n-4s68/Figure%20S3%20Twins/30_cryo_0716_NSMO110_2-55Mx_0p6us_1024px_REGISTERED.tif)"
   ]
  },
  {
   "cell_type": "code",
   "execution_count": null,
   "id": "5a854a49-964a-4f04-af0a-b6ba710ad57d",
   "metadata": {},
   "outputs": [],
   "source": [
    "import numpy as np\n",
    "import matplotlib.pyplot as plt\n",
    "from scipy.ndimage import gaussian_filter\n",
    "from tifffile import imread\n",
    "import kemstem\n",
    "%matplotlib widget"
   ]
  },
  {
   "cell_type": "markdown",
   "id": "ec93c6fe-d30d-4681-b42f-db4b5dd7b1bb",
   "metadata": {},
   "source": [
    "# Data loading and preprocessing\n",
    "We begin by loading an atomic resolution HAADF STEM image of our film, and performing some basic preprocessing before beginning analysis. Here, the image is cropped to a square for ease of analysis and the intensity is normalized between 0 and 1 for interpretability."
   ]
  },
  {
   "cell_type": "code",
   "execution_count": null,
   "id": "6212c107-56f3-4d1e-ba9a-f33e0d5d23e3",
   "metadata": {},
   "outputs": [],
   "source": [
    "filename = '/Users/noahschnitzer/Downloads/30_cryo_0716_NSMO110_2-55Mx_0p6us_1024px_REGISTERED.tif'\n",
    "image = imread(filename)\n",
    "print(f'Image shape {image.shape}')\n",
    "image = image[:min(image.shape),:min(image.shape)]\n",
    "print(f'Cropped to {image.shape}')\n",
    "image = image - image.min()\n",
    "image = image / image.max()\n",
    "print(f'Normalized to min: {image.min()}, max: {image.max()}')\n",
    "\n",
    "fig,ax = plt.subplots(1,1,constrained_layout=True,figsize=(8,8))\n",
    "ax.matshow(image,cmap='gray')"
   ]
  },
  {
   "cell_type": "markdown",
   "id": "7c5e561b-ff1b-40eb-a2ff-00d71bc02626",
   "metadata": {},
   "source": [
    "In the above image of our perovskite film, the A-site columns (a random mixture of Nd and Sr) show up as bright white blobs, while the B-site columns (Mn) are less intense. The oxygen in the structure is not visible. If you look very closely you may be able to just make out two distinct domains.\n",
    "\n",
    "We'll next take a Fourier Transform of the image to get an idea of the reciprocal space structure of our film."
   ]
  },
  {
   "cell_type": "code",
   "execution_count": null,
   "id": "8c719eb0-6b4b-4d54-af96-a0a7584979e5",
   "metadata": {},
   "outputs": [],
   "source": [
    "pattern_c = kemstem.fourier.prepare_fourier_pattern(image)\n",
    "pattern_log = kemstem.fourier.prepare_fourier_pattern(image,log=True) # Here we also take a log transform of the FFT for ease of visualization\n",
    "\n",
    "fig,ax = plt.subplots(1,2,constrained_layout=True,figsize=(10,5))\n",
    "ax[0].matshow(image,cmap='gray')\n",
    "ax[0].axis('off')\n",
    "ax[1].matshow(pattern_log,cmap='gray')\n",
    "ax[1].axis('off')"
   ]
  },
  {
   "cell_type": "markdown",
   "id": "4f62f55b-2c48-463d-8aab-9c306a13a2ba",
   "metadata": {},
   "source": [
    "In the above FFT, bright Bragg peaks are visible as well as less intense additional reflections. These less intense reflections are satellite peaks describing a superlattice. For now, we'll focus on using Fourier analysis to isolate individual peaks and analyze domains and strain."
   ]
  },
  {
   "cell_type": "markdown",
   "id": "c4b12838-b97e-4d8c-bcac-b61efdab5105",
   "metadata": {},
   "source": [
    "# Fourier analysis: filtering and phase lock-in\n",
    "We'll begin by selecting some of the peaks. To do so, simply run the following cell and click on some of the peaks visible in the Fourier pattern. Be sure to include the intense peak around (495, 380) in your selection, as well as some of the other Bragg peaks and superlattice peaks"
   ]
  },
  {
   "cell_type": "code",
   "execution_count": null,
   "id": "4ff90a84-3e3f-4aeb-a6fb-b910a168b32a",
   "metadata": {},
   "outputs": [],
   "source": [
    "selected_peaks = kemstem.fourier.select_peaks(pattern_log,zoom=300,select_conjugates=False,figsize=(5,5),delete_within=3)"
   ]
  },
  {
   "cell_type": "markdown",
   "id": "703fdea0-83bb-408f-88ae-8238d7c18585",
   "metadata": {},
   "source": [
    "Once you've selected your peaks of interest, run the below cell to refine the peak positions. Here we convolve the pattern with a Gaussian and then fit a Gaussian to each peak to find its center. For some of the following analysis, it is important that the peak positions are identified as accurately as possible. In the following plot the hand-picked positions are marked in blue and the refined positions in red."
   ]
  },
  {
   "cell_type": "code",
   "execution_count": null,
   "id": "883f9a3b-c15e-4461-bcca-5c7fe917cb24",
   "metadata": {},
   "outputs": [],
   "source": [
    "p0 = np.array(selected_peaks).T\n",
    "print(f'Selected X positions: {p0[:,1]}')\n",
    "print(f'Selected Y positions: {p0[:,0]}')\n",
    "\n",
    "peaks_ref = kemstem.fourier.refine_peaks_gf(gaussian_filter(pattern_log,.5), p0, window_dimension=5,store_fits=False, remove_unfit = False)[0]\n",
    "fig,ax = plt.subplots(1,1,constrained_layout=True,figsize=(5,5))\n",
    "kemstem.util.plot_numbered_points(pattern_log,p0,ax=ax,color='b',zoom=200)\n",
    "ax.plot(peaks_ref[:,1],peaks_ref[:,0],'r.')\n",
    "ax.axis('off')"
   ]
  },
  {
   "cell_type": "markdown",
   "id": "50dde5e4-851f-48b9-b9f1-3d929f4350d7",
   "metadata": {},
   "source": [
    "Next, we'll individually fourier filter each of our peaks. Fourier filtering means we're selecting a single peak of interest and mapping out the information from only that spacing. This can be very useful for understanding where different features in your image or fourier transforms are coming from.\n",
    "\n",
    "Practically, we do this by applying a Gaussian mask around the peak. The width (standard deviation) of this Gaussian, which is set by the `sigma` variable in the cell below, is a very important parameter. Choosing a larger `sigma` will incorporate more noise into the filter, and if it is too large information from other peaks may even leak in. On the other hand, choosing too small of a `sigma` will limit the real space resolution of the fourier filtered map. In the below cell, try filtering different peaks selected above by changing the `peak_index` variable, and also try to find a reasonable value of `sigma`.\n",
    "The following figure will plot:\n",
    "1) On the left, the absolute value of the fourier filtered signal, which shows how the intensity of the filtered peak varies in real space.\n",
    "2) In the middle, the real part of the fourier filtered signal, which produces a grating corresponding to the filtered peak. This grating incorporates phase information, visible as bending or discontinuities in the stripes, which can offer useful information about defects and other structural changes.\n",
    "3) On the right, the fourier transform is shown with Gaussian used to generate the Fourier filter overlaid. This shows which peak is being filtered, as well as what reciprocal space information is being incorporated."
   ]
  },
  {
   "cell_type": "code",
   "execution_count": null,
   "id": "50c3263a-316d-495e-b43e-980a75b21b56",
   "metadata": {},
   "outputs": [],
   "source": [
    "peak_index = 1\n",
    "sigma= 5\n",
    "filtered_im, filtered_ft, mask = kemstem.fourier.fourier_filter(pattern_c,peaks_ref[peak_index,:],sigma=sigma)\n",
    "\n",
    "fig,ax = plt.subplots(1,3,constrained_layout=True,figsize=(12,4))\n",
    "ax[0].matshow(image,cmap='gray')\n",
    "ax[0].matshow(np.abs(filtered_im),cmap='inferno',alpha=.5)\n",
    "ax[0].axis('off')\n",
    "ax[1].matshow(np.real(filtered_im),cmap='gray')\n",
    "ax[1].axis('off')\n",
    "ax[2].matshow(pattern_log,cmap='gray')\n",
    "ax[2].matshow(mask,alpha=.5,cmap='inferno')\n",
    "ax[2].axis('off')"
   ]
  },
  {
   "cell_type": "markdown",
   "id": "b537490b-433a-4eab-84c1-7239af728f52",
   "metadata": {},
   "source": [
    "Before proceeding, set the peak index above so that the Bragg peak indicated in this image is selected:\n",
    "\n",
    "\n",
    "Next, we'll extract the phase information associated with this peak from the image. The phase of a peak offers rich information about strain and defects associated with that orientation / spacing. The approach used here is a Phase lock-in technique, as described in [Goodge, B. H., El Baggari, I., Hong, S. S., Wang, Z., Schlom, D. G., Hwang, H. Y., & Kourkoutis, L. F. (2022). Disentangling coexisting structural order through phase lock-in analysis of atomic-resolution STEM data. Microscopy and Microanalysis, 28(2), 404-411.](https://doi.org/10.1017/S1431927622000125), but the result is comparable to Geometric Phase Analysis (GPA) which is also commonly used."
   ]
  },
  {
   "cell_type": "code",
   "execution_count": null,
   "id": "cade6eca-e002-4f82-9840-237992e9f736",
   "metadata": {},
   "outputs": [],
   "source": [
    "phase = kemstem.fourier.phaselock(filtered_im,peaks_ref[peak_index,:],sigma=20) # different from the sigma above \n",
    "# this sigma is a parameter of the lock in analysis and should generally be larger than the sigma used for Fourier filtering\n",
    "# but should not need to be changed here\n",
    "\n",
    "fig,ax = plt.subplots(1,3,constrained_layout=True,figsize=(12,4))\n",
    "\n",
    "ax[0].matshow(image,cmap='gray')\n",
    "ax[0].axis('off')\n",
    "ax[1].matshow(np.abs(filtered_im),cmap='inferno')\n",
    "ax[1].axis('off')\n",
    "kemstem.util.plot_phase(phase,ax=ax[2])\n",
    "ax[2].axis('off')"
   ]
  },
  {
   "cell_type": "markdown",
   "id": "5a3dc76b-4a05-45e9-af28-2c42555bea7e",
   "metadata": {},
   "source": [
    "Above are plotted:\n",
    "1) On the left, the original image\n",
    "2) In the middle, the amplitude of the fourier filtered peak\n",
    "3) On the right, the phase of the fourier filtered peak, with contours drawn at each $\\pi$/3 step. \n",
    "\n",
    "At a glance the phase doesn't seem to tell us much, but in the next cell we'll take the gradient of the phase to convert it into a strain field. In particular, we'll plot out the longitudinal and transverse components of the strain, giving us an idea of the local tensile and shear strains."
   ]
  },
  {
   "cell_type": "code",
   "execution_count": null,
   "id": "72077d26-cefc-4928-8767-e781d7f14ea2",
   "metadata": {},
   "outputs": [],
   "source": [
    "# strain\n",
    "sv = .02\n",
    "\n",
    "ref_x = peaks_ref[peak_index,1]-image.shape[0]/2. \n",
    "ref_y = peaks_ref[peak_index,0]-image.shape[0]/2. \n",
    "eps_par, eps_trans = kemstem.fourier.phase_to_strain(phase, ref_x, ref_y, mask_threshold=1.)\n",
    "fig,ax = plt.subplots(1,3,constrained_layout=True,figsize=(12,4),sharex=True,sharey=True)\n",
    "ax[0].matshow(image,cmap='gray')\n",
    "ax[0].axis('off')\n",
    "ax[1].matshow(eps_par,cmap='bwr',vmin=-sv,vmax=sv)\n",
    "ax[1].axis('off')\n",
    "ax[2].matshow(eps_trans,cmap='bwr',vmin=-sv,vmax=sv)\n",
    "ax[2].axis('off')\n"
   ]
  },
  {
   "cell_type": "markdown",
   "id": "4a84c7d6-bb0d-4b16-aee7-d4b8a57310da",
   "metadata": {},
   "source": [
    "Above are plotted:\n",
    "1) On the left, the original image.\n",
    "2) In the middle, the longitudinal component of the strain.\n",
    "3) On the right, the transverse component of the strain.\n",
    "\n",
    "For our Bragg peak of interest, you should see that the longitudinal strain shows some minor variations but for the most part is small and rather unfirom, while the transverse strain shows a clear boundary. This actually corresponds to a crystalline twin domain in the film!\n",
    "\n",
    "Next, go back through this section with some of the other Bragg and superlattice peaks -- how do they compare? Do you notice any artifacts that emerge?\n",
    "You may have to adjust the `sv` variable in the cell above to change the saturation of the strain maps.\n",
    "\n",
    "Next up, we'll move onto some atomistic analysis."
   ]
  },
  {
   "cell_type": "markdown",
   "id": "ea28d58b-e20e-4d76-8250-317745aa7858",
   "metadata": {},
   "source": [
    "# Atomistic analysis: Finding and fitting columns"
   ]
  },
  {
   "cell_type": "markdown",
   "id": "b6bf061d-89d0-4d50-a7fe-6379c9ec6ef5",
   "metadata": {},
   "source": [
    "Now, we'll begin to analyze the image atomic column by atomic column, and to start we'll try to find the positions of all the bright A-site columns.\n",
    "\n",
    "To accomplish this, we'll first bandpass filter our image. This is an important step because our image has a large low frequency intensity ramp. Here, we construct an ad-hoc filter by subtracting off a low pass filtered signal (effectively generating a high-pass filtered signal), and then applying an additional low pass filter.\n",
    "\n",
    "The original (left) and filtered (right) images are plotted in the figure below. "
   ]
  },
  {
   "cell_type": "code",
   "execution_count": null,
   "id": "f144526e-6888-401a-8975-d4d17f9814a6",
   "metadata": {},
   "outputs": [],
   "source": [
    "sigma_low = 1\n",
    "sigma_high = 20\n",
    "\n",
    "im_bandpass = kemstem.util.general.normalize(gaussian_filter(image- gaussian_filter(image,sigma_high),sigma_low))\n",
    "fig,ax = plt.subplots(1,2,figsize = (10,5),constrained_layout=True)\n",
    "ax[0].matshow(image,cmap='gray')\n",
    "ax[0].axis('off')\n",
    "ax[1].matshow(im_bandpass,cmap='gray')\n",
    "ax[1].axis('off')"
   ]
  },
  {
   "cell_type": "markdown",
   "id": "d783a905-c5ff-4d40-9dc4-06d595f0a5fe",
   "metadata": {},
   "source": [
    "Next, we'll use a blob finder to identify the column positions. The blob finder used here takes two arguments:\n",
    "1) `distance`, which sets the real space distance between peaks\n",
    "2) `threshold`, which is used for additional filtering and sets a column intensity.\n",
    "\n",
    "Try adjusting these parameters below to select all the intense A sites. While you may be able to adjust them to get the B sites as well, they won't be important to our analysis here so getting a clean selection of just the A sites is preferred. It's also ok if some A-sites are missed as long as most of them are selected."
   ]
  },
  {
   "cell_type": "code",
   "execution_count": null,
   "id": "a54ac0d6-0a0d-4973-b302-48b3995b02f4",
   "metadata": {},
   "outputs": [],
   "source": [
    "distance = 8\n",
    "threshold = .1\n",
    "c0 = kemstem.atomic.find_columns(im_bandpass,distance=distance, threshold=threshold) # 8 .2\n",
    "\n",
    "fig,ax = plt.subplots(1,1,constrained_layout=True,figsize=(5,5))\n",
    "ax.matshow(im_bandpass,cmap='gray')\n",
    "ax.axis('off')\n",
    "ax.plot(c0[:,1],c0[:,0],'r.',markersize=1)"
   ]
  },
  {
   "cell_type": "markdown",
   "id": "eb1f74cd-f32c-4650-bce8-69993828ced0",
   "metadata": {},
   "source": [
    "Now that we've roughly identified the positions of our A-site cations, we'll refine the positions by fitting a Gaussian to each column. In the below cell a test fit is run for a single column. Adjust: \n",
    "* `sigma`, a Gaussian filter applied to the image to aid fitting\n",
    "* `test_it`, the site being tested on\n",
    "* `window_dim`, the size of the patch around each site being fit -- usually the most important parameter\n",
    "\n",
    "until you think you've identified good parameters to use to fit all the columns we identified.\n",
    "\n",
    "The figure generated by this cell shows:\n",
    "* The patch of image data being fit in the top left\n",
    "* The fit result in the top right (should look as similar as possible to the top left)\n",
    "* The full image in the bottom left, marked with the original and refined positions in blue and red.\n",
    "* The fit residual, which should be as small and flat as possible."
   ]
  },
  {
   "cell_type": "code",
   "execution_count": null,
   "id": "68d4edb9-152a-425b-b3af-9e806a9494e4",
   "metadata": {},
   "outputs": [],
   "source": [
    "sigma = 1\n",
    "test_it = 555\n",
    "window_dim = 7\n",
    "fitting_image = gaussian_filter(image,sigma)\n",
    "cf,errs,opts,data_fits = kemstem.atomic.columnfind.refine_columns(fitting_image,c0[test_it,:],window_dim)\n",
    "\n",
    "fig,ax = plt.subplots(2,2,constrained_layout=True)\n",
    "ax[0,0].matshow(data_fits[:,:,0,0],cmap='gray')\n",
    "ax[0,1].matshow(data_fits[:,:,0,1],cmap='gray')\n",
    "ax[1,0].matshow(fitting_image,cmap='gray')\n",
    "ax[1,0].plot(c0[test_it,1],c0[test_it,0],'b.')\n",
    "ax[1,0].plot(cf[0,1],cf[0,0],'r.')\n",
    "ax[1,1].matshow(data_fits[:,:,0,0]-data_fits[:,:,0,1],cmap='gray',vmin=-.1,vmax=.1)\n",
    "_ = [tax.axis('off') for tax in ax.ravel()]"
   ]
  },
  {
   "cell_type": "markdown",
   "id": "964bed0e-7959-42d7-8877-4a5640aeeafb",
   "metadata": {},
   "source": [
    "Once you've identified good parameters above, run the following cell to fit all the columns in the image. This may take a few moments."
   ]
  },
  {
   "cell_type": "code",
   "execution_count": null,
   "id": "1166a288-12ba-492e-a58b-39b4c3fab1a5",
   "metadata": {},
   "outputs": [],
   "source": [
    "cf,errs,opts,data_fits = kemstem.atomic.columnfind.refine_columns(fitting_image,c0,window_dim)"
   ]
  },
  {
   "cell_type": "markdown",
   "id": "5c740377-a89f-4a2e-94fb-8497cc9b63b5",
   "metadata": {},
   "source": [
    "Below are plotted the original blob finder positions (blue) and fit positions (red). As can be seen zooming in, Gaussian fitting each column is essential for precicely and accurately determining its position."
   ]
  },
  {
   "cell_type": "code",
   "execution_count": null,
   "id": "654320ac-6b26-46cc-b364-f1120768f120",
   "metadata": {},
   "outputs": [],
   "source": [
    "fig,ax = plt.subplots(1,1,constrained_layout=True,figsize=(6,6))\n",
    "ax.matshow(image,cmap='gray')\n",
    "ax.plot(c0[:,1],c0[:,0],'b.')\n",
    "ax.plot(cf[:,1],cf[:,0],'r.')\n",
    "ax.axis('off')"
   ]
  },
  {
   "cell_type": "markdown",
   "id": "efc594c0-9215-45ca-b9b0-a19bb8cc78a0",
   "metadata": {},
   "source": [
    "Just from these peak positions, we can already do some quick preliminary analysis. The following cell plots a pair correlation function showing the neighborhood of points surrounding each site. Because we only identified the A-site positions this is not so interesting on its own, but we can use this to easily find the vectors between columns to aid in quantifying the atomic scale structure in real space."
   ]
  },
  {
   "cell_type": "code",
   "execution_count": null,
   "id": "daa87e1e-7ae3-4a31-9e29-4e178703fcbe",
   "metadata": {},
   "outputs": [],
   "source": [
    "neighborhood = kemstem.atomic.neighborhood.get_neighborhood(cf, cf[:,:], k=20)\n",
    "clusters = kemstem.atomic.neighborhood.cluster_neighbors(neighborhood,n_clusters=40)\n",
    "\n",
    "\n",
    "ax = kemstem.util.viz.neighborhood_scatter_plot(neighborhood,clusters=clusters)"
   ]
  },
  {
   "cell_type": "markdown",
   "id": "13d75848-fbe3-4220-b270-fe125e96cffd",
   "metadata": {},
   "source": [
    "For ease of picking vectors of interest, the points above have been clustered, where the red numbers indicate the cluster index. Pick a cluster close to the plot origin, and set the `cluster_index` variable below to that number.\n",
    "\n",
    "The cell below uses that cluster centroid as a guess vector to, for every column identified previously, find the corresponding neighbor and measure the distance between them. These distances and the vectors connecting the pairs of sites are plotted below, as well as a histogram of the inter-site distances."
   ]
  },
  {
   "cell_type": "code",
   "execution_count": null,
   "id": "37a85116-c86e-4328-b3c3-c41b0761778e",
   "metadata": {},
   "outputs": [],
   "source": [
    "cluster_index = 4\n",
    "vects = kemstem.atomic.neighborhood.get_vector_to_neighbors(cf,cf[:,:],clusters[cluster_index,:],threshold=1)\n",
    "fig,ax = plt.subplots(1,2,constrained_layout=True,figsize=(12,6))\n",
    "ax[0].matshow(image,cmap='gray')\n",
    "kemstem.util.viz.plot_scalar_bonds(ax[0],np.linalg.norm(vects,axis=1),cf[:,:],cf[:,:]+vects,linewidth=2,cmap='plasma')\n",
    "ax[0].axis('off')\n",
    "_ = ax[1].hist(np.linalg.norm(vects,axis=1),bins=100)"
   ]
  },
  {
   "cell_type": "markdown",
   "id": "d25f8ad9-ca00-4d10-adbb-0c9662742123",
   "metadata": {},
   "source": [
    "While just measuring inter-column distances can give some useful structural information, what makes this image particularly  interesting is the presence of periodic lattice distortions associated with charge order. These picometer scale displacements are extremely tricky to measure reliably and require more advanced techniques for reliable quantification. In the next section, we'll combine real and reciprocal space information to isolate these distortions."
   ]
  },
  {
   "cell_type": "markdown",
   "id": "28990fc6-a3ed-4372-8342-66abce7dd807",
   "metadata": {},
   "source": [
    "# Periodic lattice displacement mapping\n",
    "Our basic approach will be to generate a reference image without the periodic lattice distortions by masking out all the superlattice peaks, then mapping out the displacements between our measured column positions and this undistorted reference.\n",
    "\n",
    "To begin, run the cell below, which will bring up a peak picker like the one used at the beginning of the notebook. This time, select only the __less intense superlattice satellite peaks__, and try to select as many as possible. \n",
    "\n",
    "\n",
    "Note that now conjugate peaks (opposite peaks across the center of the pattern) are now automatically selected and mistaken selection can be removed by clicking on the peak again. The pattern is saturated to make the superlattice peaks more visible."
   ]
  },
  {
   "cell_type": "code",
   "execution_count": null,
   "id": "29a467ec-95cb-45c4-8cbf-785bda650793",
   "metadata": {},
   "outputs": [],
   "source": [
    "selected_peaks_PLD = kemstem.fourier.peakpick.select_peaks(pattern_log,zoom=350,select_conjugates=True,figsize=(5,5),delete_within=5,vmax=6)"
   ]
  },
  {
   "cell_type": "markdown",
   "id": "b6c3bbeb-6890-4455-a695-eada71873dab",
   "metadata": {},
   "source": [
    "Next, like previously, we'll refine the peak positions. For this technique it turns out getting the exact center of each peak is less important, what's more essential is actually fitting the background level near each peak."
   ]
  },
  {
   "cell_type": "code",
   "execution_count": null,
   "id": "fc20b97b-2b6c-4c83-b64a-2d56bb8ce61d",
   "metadata": {},
   "outputs": [],
   "source": [
    "p0PLD = np.array(selected_peaks_PLD).T\n",
    "peaks_fit, perrors,popts,pdf = kemstem.atomic.columnfind.refine_columns(gaussian_filter(np.abs(pattern_c),2), p0PLD, window_dimension=9,store_fits=True, remove_unfit = False)\n",
    "fig,ax = plt.subplots(1,1,constrained_layout=True)\n",
    "kemstem.util.viz.plot_numbered_points(pattern_log,p0PLD,ax=ax,color='b',zoom=350)\n",
    "ax.plot(peaks_fit[:,1],peaks_fit[:,0],'r.')\n",
    "ax.axis('off')"
   ]
  },
  {
   "cell_type": "markdown",
   "id": "efc40480-b440-4320-a9cd-e7cbe4f37d88",
   "metadata": {},
   "source": [
    "The cell below will show a comparison of the peaks and the fits - it is not so important that the fits are perfect as that the background levels for each fit look approximately correct."
   ]
  },
  {
   "cell_type": "code",
   "execution_count": null,
   "id": "ff224510-1486-4d3d-9c04-026430cf7bc4",
   "metadata": {},
   "outputs": [],
   "source": [
    "_ = kemstem.util.viz.plot_fit_comparison(pdf,)"
   ]
  },
  {
   "cell_type": "markdown",
   "id": "09b6049a-1dbb-4e7d-b744-e3d833897f96",
   "metadata": {},
   "source": [
    "Next, we'll mask out each of the peaks by setting them to the background level determined by the fits. In this process only the amplitude is supressed - the phase information is retained - so side effects on the image should be minimal. Run the following cell and check in the resulting masked fourier transform that most / all the superlattice peaks are no longer visible. Plotted along side the masked fourier transform is the inverse transform - i.e. an image without the superlattice which we can use as an undistorted reference. This image should look almost exactly the same as the original image.\n",
    "\n",
    "The mask size can be adjusted with the `mask_size` variable -- the mask should be large enough that the peaks are fully supressed, but small enough that no Bragg peaks are filtered."
   ]
  },
  {
   "cell_type": "code",
   "execution_count": null,
   "id": "2d6026f2-66ae-48f5-8ef8-22bfdcc75fb1",
   "metadata": {},
   "outputs": [],
   "source": [
    "mask_size  = 9 \n",
    "masked_pattern_c,masked_image = kemstem.fourier.fourierfilter.mask_peaks_circle(pattern_c,peaks_fit,popts[:,6],mask_size)\n",
    "fig,ax = plt.subplots(1,2,constrained_layout=True,figsize=(10,5))\n",
    "ax[0].matshow(np.log(np.abs(masked_pattern_c)),cmap='gray')\n",
    "ax[0].axis('off')\n",
    "ax[1].matshow(masked_image,cmap='gray')\n",
    "ax[1].axis('off')\n"
   ]
  },
  {
   "cell_type": "markdown",
   "id": "fe0f86dd-9a6f-4635-81a8-e496f4e715c8",
   "metadata": {},
   "source": [
    "Next, to gain some intuition about how this process altered the image, we'll look at the difference between the original image and the masked image. The original image is plotted on the left, and is overlaid with the difference between the masked and original images on the right."
   ]
  },
  {
   "cell_type": "code",
   "execution_count": null,
   "id": "7a8d4b36-61c2-4f1f-8261-581142f0825a",
   "metadata": {},
   "outputs": [],
   "source": [
    "\n",
    "difference_image = masked_image - image\n",
    "difference_image = difference_image / np.abs(difference_image).max()\n",
    "fig,ax = plt.subplots(1,2,constrained_layout=True,figsize=(10,5),sharex=True,sharey=True)\n",
    "ax[0].matshow(image,cmap='gray')\n",
    "ax[0].axis('off')\n",
    "ax[1].matshow(image,cmap='gray')\n",
    "ax[1].matshow(difference_image,cmap='bwr',alpha=.5,vmin=-.5,vmax=.5)\n",
    "ax[1].axis('off')"
   ]
  },
  {
   "cell_type": "markdown",
   "id": "5d003617-e052-417f-bcf2-cf6080bb2ee5",
   "metadata": {},
   "source": [
    "Zooming into the difference image, a complex pattern should be visible. The key feature that we're most interested in are dumbell like features which should straddle most of the atomic columns -- these dumbells, with one side red and one side blue, indicate the column _shifted_ with the masking. These are the displacements that we are interested in mapping out.\n",
    "\n",
    "Next, we'll fit all the A-sites in the masked reference image. For this the same blob finder identified sites and parameters determined previously can be used as the shifts are on the picometer scale - less than a pixel across in this image.\n",
    "\n",
    "Do you notice any artifacts or interesting features in the difference image?"
   ]
  },
  {
   "cell_type": "code",
   "execution_count": null,
   "id": "b4b49215-ca4a-4927-aa1e-6c5a3fbede2b",
   "metadata": {},
   "outputs": [],
   "source": [
    "c_masked = kemstem.atomic.columnfind.refine_columns(gaussian_filter(masked_image,1),c0,window_dim)[0]"
   ]
  },
  {
   "cell_type": "markdown",
   "id": "bb2db825-9129-4b29-96af-457f031f60c6",
   "metadata": {},
   "source": [
    "Run the below cell to visualize the displacements. Do you notice any domains? How do they correspond with the twin domains identified previously?"
   ]
  },
  {
   "cell_type": "code",
   "execution_count": null,
   "id": "907f5b8a-bb1d-40ed-a2b4-faf001abb516",
   "metadata": {},
   "outputs": [],
   "source": [
    "displacements = kemstem.atomic.periodicdistortion.measure_displacements(c_masked,cf,threshold=0.4)#kemstem.util.point.get_nearest_points(c_masked,cf,k=1)[0] - cf\n",
    "\n",
    "\n",
    "scale = 2e3 # scale factor for the triangles\n",
    "colors = 'angle' # 'angle' or 'mag'\n",
    "\n",
    "fig,ax = plt.subplots(1,1,constrained_layout=True,figsize=(6,6))\n",
    "ax.matshow(image,cmap='gray',alpha=.7)\n",
    "kemstem.util.plot_displaced_site(cf,displacements,scale=scale,colors=colors,ax=ax,cmap='hsv',linewidth=.2,shape=5,angleshift=np.pi/2,scale_power=.5)#,disp_min=1e-2,disp_max = 1e-1,)\n",
    "ax.axis('off')"
   ]
  }
 ],
 "metadata": {
  "kernelspec": {
   "display_name": "Python 3 (ipykernel)",
   "language": "python",
   "name": "python3"
  },
  "language_info": {
   "codemirror_mode": {
    "name": "ipython",
    "version": 3
   },
   "file_extension": ".py",
   "mimetype": "text/x-python",
   "name": "python",
   "nbconvert_exporter": "python",
   "pygments_lexer": "ipython3",
   "version": "3.10.4"
  }
 },
 "nbformat": 4,
 "nbformat_minor": 5
}
