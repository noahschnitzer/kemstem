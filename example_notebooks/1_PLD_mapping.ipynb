{
 "cells": [
  {
   "cell_type": "markdown",
   "id": "80b3ae99-0af7-4b98-a066-496c60ca9b89",
   "metadata": {},
   "source": [
    "# Periodic lattice displacement mapping\n",
    "This example notebook demonstrates the fourier masking approach for measuring periodic lattice displacements. An atomic resolution HAADF STEM image of the charge ordered perovskite Nd$_{0.5}$Sr$_{0.5}$MnO$_3$ thin film is used. \n",
    "\n",
    "The method used is described in detail in [Savitzky, B. H., El Baggari, I., Admasu, A. S., Kim, J., Cheong, S. W., Hovden, R., & Kourkoutis, L. F. (2017). Bending and breaking of stripes in a charge ordered manganite. Nature communications, 8(1), 1883.](https://doi.org/10.1038/s41467-017-02156-1)\n",
    "\n",
    "The data used for this tutorial is from the publication [El Baggari, I., Baek, D. J., Zachman, M. J., Lu, D., Hikita, Y., Hwang, H. Y., ... & Kourkoutis, L. F. (2021). Charge order textures induced by non-linear couplings in a half-doped manganite. Nature communications, 12(1), 3747.](https://doi.org/10.1038/s41467-021-24026-7)\n",
    "\n",
    "#### [This dataset and others are available through PARADIM](https://data.paradim.org/doi/bg5n-4s68/)"
   ]
  },
  {
   "cell_type": "code",
   "execution_count": null,
   "id": "b0df69f4-a786-44cc-b611-b57795b7ef82",
   "metadata": {},
   "outputs": [],
   "source": [
    "import numpy as np\n",
    "import matplotlib.pyplot as plt\n",
    "from scipy.ndimage import gaussian_filter\n",
    "from tifffile import imread\n",
    "import kemstem\n",
    "%matplotlib widget\n",
    "print(f'{kemstem.__version__=}')"
   ]
  },
  {
   "cell_type": "markdown",
   "id": "eb9b488f-ca6e-4133-827a-843ba9f95b31",
   "metadata": {},
   "source": [
    "# Data loading and preprocessing\n",
    "We begin by loading an atomic resolution HAADF STEM image of our film, and performing some basic preprocessing before beginning analysis. Here, the image is cropped to a square for ease of analysis and the intensity is normalized between 0 and 1 for interpretability."
   ]
  },
  {
   "cell_type": "code",
   "execution_count": null,
   "id": "7fe97f2d-87dc-4c88-b2e4-7423b28b4d7f",
   "metadata": {},
   "outputs": [],
   "source": [
    "filename = 'data/FigS6_0716__Cryo_NSMO110_5-1Mx_0p5us_1024px_REGISTERED.tif'\n",
    "image = imread(filename)\n",
    "print(f'Image shape {image.shape}')\n",
    "image = image[:min(image.shape),:min(image.shape)]\n",
    "print(f'Cropped to {image.shape}')\n",
    "image = kemstem.util.normalize(image)\n",
    "print(f'Normalized to min: {image.min()}, max: {image.max()}')\n",
    "\n",
    "fig,ax = plt.subplots(1,1,constrained_layout=True,figsize=(4,4))\n",
    "ax.matshow(image,cmap='gray')\n",
    "ax.axis('off')"
   ]
  },
  {
   "cell_type": "code",
   "execution_count": null,
   "id": "273a108c-ea8e-408c-afc2-31f1161fca20",
   "metadata": {},
   "outputs": [],
   "source": [
    "pattern_c = kemstem.fourier.prepare_fourier_pattern(image)\n",
    "pattern_log = kemstem.fourier.prepare_fourier_pattern(image,log=True,log_offset=1e0) # Here we also take a log transform of the FFT for ease of visualization\n",
    "\n",
    "fig,ax = plt.subplots(1,2,constrained_layout=True,figsize=(8,4))\n",
    "ax[0].matshow(image,cmap='gray')\n",
    "ax[0].axis('off')\n",
    "ax[1].matshow(pattern_log,cmap='gray')\n",
    "ax[1].axis('off')"
   ]
  },
  {
   "cell_type": "markdown",
   "id": "c9ca1dfc-2a6d-412d-bf40-89ce09e67b0d",
   "metadata": {},
   "source": [
    "# Identifying FFT peaks of interest to mask\n",
    "The basic approach will be to generate a reference image without the periodic lattice distortions by masking out all the superlattice peaks, then mapping out the displacements between our measured column positions and this undistorted reference.\n",
    "\n",
    "We begin by selecting the superlattice peaks to mask out. The next cell allows these peaks to be picked manually, or uncomment the following cell to use a preselected set of peak positions."
   ]
  },
  {
   "cell_type": "code",
   "execution_count": null,
   "id": "4051201c-4fdf-443e-9660-fde40813bd1d",
   "metadata": {},
   "outputs": [],
   "source": [
    "selected_peaks_PLD = kemstem.fourier.select_peaks(pattern_log,zoom=200,select_conjugates=True,figsize=(7,7),delete_within=5,vmin=3,vmax=7)"
   ]
  },
  {
   "cell_type": "code",
   "execution_count": null,
   "id": "f96b1360-284b-4247-ad45-5f08d68fc40e",
   "metadata": {},
   "outputs": [],
   "source": [
    "# uncomment and run to use preselected peak(s)\n",
    "#selected_peaks_PLD = np.array([[443.43372957, 454.56627043, 471.48194938, 426.51805062, 495.77112942, 402.22887058, 522.95187851, 375.04812149,548.39768617, 349.60231383, 575.00012145, 322.99987855,363.33726683, 534.66273317, 389.3613883 , 508.6386117 ,413.65056834, 484.34943166, 439.67468981, 458.32531019,465.69881128, 432.30118872, 491.72293274, 406.27706726,516.59042659, 381.40957341, 544.34948949, 353.65051051,569.79529715, 328.20470285, 425.21684455, 472.78315545,451.24096602, 446.75903398, 476.68677367, 421.31322633,503.28920895, 394.71079105, 529.89164423, 368.10835577],\n",
    "#       [307.89143026, 590.10856974, 322.34927552, 575.65072448,339.12037602, 558.87962398, 354.7348489 , 543.2651511 ,369.77100797, 528.22899203, 385.38548085, 512.61451915,326.975786  , 571.024214  , 343.16857269, 554.83142731,358.20473176, 539.79526824, 373.81920465, 524.18079535,390.01199134, 507.98800866, 404.4698366 , 493.5301634 ,420.08430948, 477.91569052, 436.85540998, 461.14459002,453.04819667, 444.95180333, 399.84332611, 498.15667389,415.457799  , 482.542201  , 430.49395807, 467.50604193,446.68674476, 451.31325524, 462.30121764, 435.69878236]])"
   ]
  },
  {
   "cell_type": "markdown",
   "id": "6a819b12-b07d-47e2-8fe3-4c844e0c08d2",
   "metadata": {},
   "source": [
    "# Fitting FFT peaks\n",
    "Next, we fit the peaks using 2D gaussians. 2 parameters are important - the peak position, at which to center our masks, and the peak background, which we  set the masked areas to in order to match the surrounding background level. As peak width and amplitude are unimportant, we convolve a gaussian with the pattern to ease fitting."
   ]
  },
  {
   "cell_type": "code",
   "execution_count": null,
   "id": "f974eac7-9e55-4344-b72a-8c96f5aea737",
   "metadata": {},
   "outputs": [],
   "source": [
    "p0PLD = np.array(selected_peaks_PLD).T\n",
    "peaks_fit, perrors,popts,pdf = kemstem.fourier.refine_peaks_gf(gaussian_filter(np.abs(pattern_c),1.), p0PLD, window_dimension=11,store_fits=True, remove_unfit = False)\n",
    "pbackgrounds = popts[:,6]\n",
    "fig,ax = plt.subplots(1,1,constrained_layout=True)\n",
    "kemstem.util.viz.plot_numbered_points(pattern_log,p0PLD,ax=ax,color='b',zoom=350) # original selected peak positions shown in blue\n",
    "ax.plot(peaks_fit[:,1],peaks_fit[:,0],'r.') # fit positions shown in red\n",
    "ax.axis('off')"
   ]
  },
  {
   "cell_type": "code",
   "execution_count": null,
   "id": "359647c6-8db3-492d-9d0a-0eaa0d29446f",
   "metadata": {},
   "outputs": [],
   "source": [
    "# plotting a comparison of the peaks in the filtered pattern and the fit results\n",
    "# most important point is to check that the background levels are roughly similar\n",
    "_ = kemstem.util.viz.plot_fit_comparison(pdf) "
   ]
  },
  {
   "cell_type": "markdown",
   "id": "1282b4af-082b-407c-9bb4-d94bb2276735",
   "metadata": {},
   "source": [
    "# Masking FFT peaks\n",
    "Peaks are masked with circular masks. The mask size is an important parameter - it should be set to ensure that the superlattice peaks are entirely masked out, while minimizing the inclusion of any other features present in the pattern. The masked fourier pattern and its inverse fourier transform - the desired undistorted reference image - are shown below."
   ]
  },
  {
   "cell_type": "code",
   "execution_count": null,
   "id": "eb16e22d-6103-44af-9fc3-e67fbe2fa787",
   "metadata": {},
   "outputs": [],
   "source": [
    "mask_size  = 6\n",
    "masked_pattern_c,masked_image = kemstem.fourier.mask_peaks_circle(pattern_c,peaks_fit,pbackgrounds,mask_size)\n",
    "fig,ax = plt.subplots(1,2,constrained_layout=True,figsize=(8,4))\n",
    "ax[0].matshow(np.log(np.abs(masked_pattern_c)),cmap='gray')\n",
    "ax[0].axis('off')\n",
    "ax[1].matshow(masked_image,cmap='gray')\n",
    "ax[1].axis('off')\n"
   ]
  },
  {
   "cell_type": "markdown",
   "id": "fe54022a-a54e-404e-881a-69071b37e248",
   "metadata": {},
   "source": [
    "# Visualizing intensity differences with the reference image\n",
    "A quick and easy way to visualize contrast changes due to a PLD, or e.g. chemical ordering, is to simply plot the difference between the original (distorted) image and the (undistorted) reference generated by the Fourier masking performed above."
   ]
  },
  {
   "cell_type": "code",
   "execution_count": null,
   "id": "4b5f54f2-a30b-4919-86ce-1cbcc775a440",
   "metadata": {},
   "outputs": [],
   "source": [
    "difference_image = masked_image - image\n",
    "difference_image = difference_image / np.abs(difference_image).max()\n",
    "fig,ax = plt.subplots(1,2,constrained_layout=True,figsize=(8,4),sharex=True,sharey=True)\n",
    "ax[0].matshow(image,cmap='gray')\n",
    "ax[0].axis('off')\n",
    "ax[1].matshow(image,cmap='gray')\n",
    "ax[1].matshow(difference_image,cmap='bwr',alpha=.5,vmin=-.5,vmax=.5)\n",
    "ax[1].axis('off')"
   ]
  },
  {
   "cell_type": "markdown",
   "id": "6e5b75ed-45f4-42d7-8daa-fc335c04fe45",
   "metadata": {},
   "source": [
    "# Fitting atomic columns\n",
    "To measure the actual displacements of each atomic column in the image (the periodic lattice displacements) we'll need to identify the atomic columns and precicely fit their positions in the original and reference images.\n",
    "\n",
    "We begin by finding the column positions using an approach derived from stemtool."
   ]
  },
  {
   "cell_type": "code",
   "execution_count": null,
   "id": "19653b2c-ae92-4320-a6f0-5456fc10a7d9",
   "metadata": {},
   "outputs": [],
   "source": [
    "distance = 5\n",
    "threshold = .1\n",
    "c0 = kemstem.atomic.find_columns(image,distance=distance, threshold=threshold) # 8 .2\n",
    "\n",
    "fig,ax = plt.subplots(1,1,constrained_layout=True,figsize=(5,5))\n",
    "ax.matshow(image,cmap='gray')\n",
    "ax.axis('off')\n",
    "ax.plot(c0[:,1],c0[:,0],'r.',markersize=1)"
   ]
  },
  {
   "cell_type": "markdown",
   "id": "0d4110fb-e95b-4fa0-b4b5-892a500c6b2a",
   "metadata": {},
   "source": [
    "Next, we test fitting a single atomic column. The test column is selected with `test_it`, the key parameter is the fit window size, set with `window_dim`. It can be useful to preprocess the image to aid in fitting, though the precise approach will depend strongly on details of the image and precision considerations. Here we gaussian filter the image slightly to improve fit convergence, and wrap this preprocessing in a function to ensure precicely the same steps are taken with both the original and reference images to avoid any unwanted added differences between the two images.\n",
    "\n",
    "The figure generated by this cell shows:\n",
    "* The patch of image data being fit in the top left\n",
    "* The fit result in the top right (should look as similar as possible to the top left)\n",
    "* The full image in the bottom left, marked with the original and refined positions in blue and red.\n",
    "* The fit residual, which should be as small and flat as possible."
   ]
  },
  {
   "cell_type": "code",
   "execution_count": null,
   "id": "0085b16e-730f-4e65-841c-2810bff68731",
   "metadata": {},
   "outputs": [],
   "source": [
    "def preprocc_image(im):\n",
    "    sigma = 1\n",
    "    return gaussian_filter(im,sigma)\n",
    "\n",
    "test_it =3000\n",
    "window_dim = 9\n",
    "fitting_image = preprocc_image(image)\n",
    "cf,errs,opts,data_fits = kemstem.atomic.refine_columns(fitting_image,c0[test_it,:],window_dim)\n",
    "\n",
    "fig,ax = plt.subplots(2,2,constrained_layout=True)\n",
    "ax[0,0].matshow(data_fits[:,:,0,0],cmap='gray')\n",
    "ax[0,1].matshow(data_fits[:,:,0,1],cmap='gray')\n",
    "ax[1,0].matshow(fitting_image,cmap='gray')\n",
    "ax[1,0].plot(c0[test_it,1],c0[test_it,0],'b.') # original unfit position shown in blue\n",
    "ax[1,0].plot(cf[0,1],cf[0,0],'r.') # fit position shown in red\n",
    "ax[1,1].matshow(data_fits[:,:,0,0]-data_fits[:,:,0,1],cmap='gray',vmin=-.1,vmax=.1) # fit residual\n",
    "_ = [tax.axis('off') for tax in ax.ravel()]"
   ]
  },
  {
   "cell_type": "markdown",
   "id": "0033b03d-059d-4f11-b63b-5589cf4a2481",
   "metadata": {},
   "source": [
    "The following cell will now fit each column identified in the original image. This may take some time."
   ]
  },
  {
   "cell_type": "code",
   "execution_count": null,
   "id": "a6354ac7-0e44-482f-b0c1-0e334abeb658",
   "metadata": {},
   "outputs": [],
   "source": [
    "cf,errs,opts,data_fits = kemstem.atomic.columnfind.refine_columns(fitting_image,c0,window_dim)"
   ]
  },
  {
   "cell_type": "code",
   "execution_count": null,
   "id": "ecc9246c-5850-409d-a4f6-08b2bc446662",
   "metadata": {},
   "outputs": [],
   "source": [
    "fig,ax = plt.subplots(1,1,constrained_layout=True,figsize=(6,6))\n",
    "ax.matshow(image,cmap='gray')\n",
    "ax.plot(c0[:,1],c0[:,0],'b.') # original positions shown in blue\n",
    "ax.plot(cf[:,1],cf[:,0],'r.') # fit positions shown in red\n",
    "ax.axis('off')"
   ]
  },
  {
   "cell_type": "markdown",
   "id": "5dd969bf-622e-4cbd-a24a-954bd2c418ba",
   "metadata": {},
   "source": [
    "Next, we can fit each column in the masked reference image, using the same parameters and preprocessing"
   ]
  },
  {
   "cell_type": "code",
   "execution_count": null,
   "id": "7004a9b0-6cfc-4676-92c7-2103172ca8e7",
   "metadata": {},
   "outputs": [],
   "source": [
    "c_masked = kemstem.atomic.refine_columns(preprocc_image(masked_image),c0,window_dim)[0]"
   ]
  },
  {
   "cell_type": "markdown",
   "id": "2d593a84-62f2-43db-adf4-ab0cfb0519b7",
   "metadata": {},
   "source": [
    "# Mapping periodic lattice displacements\n",
    "Finally, having found the positions of each atomic column in the original image which includes the periodic lattice displacements, and the masked reference image which excludes them, we can measure them by calculating the displacement vector between the positions in each image.\n",
    "\n",
    "The displacements are visualized with arrows whose size (specifically, area) indicates the displacement magnitude, and whose orientation and color indicate the displacement direction. The triangles are scaled up significantly to make the picometer scale displacements easily visible."
   ]
  },
  {
   "cell_type": "code",
   "execution_count": null,
   "id": "caabf805-a0db-48b0-8cb1-e45c1f479fe5",
   "metadata": {},
   "outputs": [],
   "source": [
    "displacements = kemstem.atomic.measure_displacements(c_masked,cf,threshold=0.4)\n",
    "\n",
    "\n",
    "scale = 2e3 # scale factor for the triangles\n",
    "colors = 'angle' # 'angle' or 'mag'\n",
    "\n",
    "fig,ax = plt.subplots(1,1,constrained_layout=True,figsize=(6,6))\n",
    "ax.matshow(image,cmap='gray',alpha=.7)\n",
    "kemstem.util.plot_displaced_site(cf,displacements,scale=scale,colors=colors,ax=ax,cmap='hsv',linewidth=.2,shape=5,angleshift=np.pi/2,scale_power=.5)\n",
    "ax.axis('off')"
   ]
  },
  {
   "cell_type": "markdown",
   "id": "69e4012d-a516-4f5d-a311-4f414e058a2e",
   "metadata": {},
   "source": [
    "Finally, it's often useful to generate scale triangles to show how the arrows in the above visualization correspond to physical distances. The known image pixel size is used to convert from pixels to real space units. "
   ]
  },
  {
   "cell_type": "code",
   "execution_count": null,
   "id": "d8e8d5a0-5a03-4ddd-9ff2-258358771885",
   "metadata": {},
   "outputs": [],
   "source": [
    "pm_per_px = 18.4\n",
    "scale_pms = np.array([1,3,5,7,9])\n",
    "scale_posns_x = np.linspace(100,500,len(scale_pms))\n",
    "scale_posns_y = 500* np.ones_like(scale_pms)\n",
    "\n",
    "scale_c = np.stack((scale_posns_y,scale_posns_x),axis=1)\n",
    "scale_disps = np.stack((-scale_pms,np.zeros_like(scale_pms)),axis=1) / pm_per_px\n",
    "\n",
    "fig,ax = plt.subplots(1,1,constrained_layout=True,figsize=(6,6))\n",
    "ax.matshow(np.zeros_like(image),cmap='gray',vmin=-1,vmax=0)\n",
    "kemstem.util.plot_displaced_site(scale_c,scale_disps,scale=scale,colors=np.zeros_like(scale_pms),ax=ax,cmap='gray',linewidth=.2,shape=5,angleshift=np.pi/2,scale_power=.5)#,disp_min=1e-2,disp_max = 1e-1,)\n",
    "ax.axis('off')"
   ]
  }
 ],
 "metadata": {
  "kernelspec": {
   "display_name": "Python 3 (ipykernel)",
   "language": "python",
   "name": "python3"
  },
  "language_info": {
   "codemirror_mode": {
    "name": "ipython",
    "version": 3
   },
   "file_extension": ".py",
   "mimetype": "text/x-python",
   "name": "python",
   "nbconvert_exporter": "python",
   "pygments_lexer": "ipython3",
   "version": "3.10.11"
  }
 },
 "nbformat": 4,
 "nbformat_minor": 5
}
