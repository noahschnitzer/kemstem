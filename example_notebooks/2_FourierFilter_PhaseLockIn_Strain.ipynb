{
 "cells": [
  {
   "cell_type": "markdown",
   "id": "6f2f93bd-c329-4fc0-b898-f94734021e3b",
   "metadata": {},
   "source": [
    "# Fourier filtering, phase lock-in, and strain mapping\n",
    "This example notebook demonstrates the Fourier filtering, phase lock-in analysis, and strain mapping on an atomic resolution HAADF STEM image of a partially relaxed thin film with misfit dislocations. \n",
    "\n",
    "The method used is described in detail in [Goodge, B. H., El Baggari, I., Hong, S. S., Wang, Z., Schlom, D. G., Hwang, H. Y., & Kourkoutis, L. F. (2022). Disentangling coexisting structural order through phase lock-in analysis of atomic-resolution STEM data. Microscopy and Microanalysis, 28(2), 404-411.](https://doi.org/10.1017/S1431927622000125)\n"
   ]
  },
  {
   "cell_type": "code",
   "execution_count": null,
   "id": "a58c486f-c446-4964-b00d-4f334f0bc27f",
   "metadata": {},
   "outputs": [],
   "source": [
    "import numpy as np\n",
    "import matplotlib.pyplot as plt\n",
    "from scipy.ndimage import gaussian_filter\n",
    "from tifffile import imread\n",
    "import kemstem\n",
    "%matplotlib widget\n",
    "print(f'{kemstem.__version__=}')"
   ]
  },
  {
   "cell_type": "markdown",
   "id": "0e230a90-ab4c-427c-aa5c-395dca9ed73a",
   "metadata": {},
   "source": [
    "# Data loading and preprocessing\n",
    "We begin by loading an atomic resolution HAADF STEM image of our film, and performing some basic preprocessing before beginning analysis. Here, the image is cropped to a square for ease of analysis and the intensity is normalized between 0 and 1 for interpretability."
   ]
  },
  {
   "cell_type": "code",
   "execution_count": null,
   "id": "a00ab633-55be-41e8-9603-8cdeda080bc5",
   "metadata": {},
   "outputs": [],
   "source": [
    "filename = 'data/rI_1341 2.6 Mx B_C270_0_HAADF.tif'\n",
    "\n",
    "image = imread(filename)\n",
    "print(f'Image shape {image.shape}')\n",
    "image = image[:min(image.shape),:min(image.shape)]\n",
    "print(f'Cropped to {image.shape}')\n",
    "image = kemstem.util.normalize(image)\n",
    "print(f'Normalized to min: {image.min()}, max: {image.max()}')\n",
    "\n",
    "fig,ax = plt.subplots(1,1,constrained_layout=True,figsize=(4,4))\n",
    "ax.matshow(image,cmap='gray')\n",
    "ax.axis('off')"
   ]
  },
  {
   "cell_type": "markdown",
   "id": "b3cf7dd9-b87f-44a2-9ce8-a8a30f74b324",
   "metadata": {},
   "source": [
    "The doubling of peaks in the below pattern along both the in-plane and out-of-plane directions indicates that both lattice parameters differ between the film and substrate"
   ]
  },
  {
   "cell_type": "code",
   "execution_count": null,
   "id": "0e8c7735-c893-4eb8-a2e8-4ad629729765",
   "metadata": {},
   "outputs": [],
   "source": [
    "pattern_c = kemstem.fourier.prepare_fourier_pattern(image)\n",
    "pattern_log = kemstem.fourier.prepare_fourier_pattern(image,log=True,log_offset=1e0) # Here we also take a log transform of the FFT for ease of visualization\n",
    "\n",
    "fig,ax = plt.subplots(1,2,constrained_layout=True,figsize=(8,4))\n",
    "ax[0].matshow(image,cmap='gray')\n",
    "ax[0].axis('off')\n",
    "ax[1].matshow(pattern_log,cmap='gray')\n",
    "ax[1].axis('off')"
   ]
  },
  {
   "cell_type": "markdown",
   "id": "d38bc07f-ed9f-4313-b1da-f84aa9eedfca",
   "metadata": {},
   "source": [
    "# Identifying FFT peaks of interest\n",
    "Here we can select one low order in-plane and one out-of-plane peak in the FFT to analyze the relaxation of the film.\n",
    "\n",
    "The next cell allows these peaks to be picked manually, or uncomment the following cell to use a preselected set of peak positions."
   ]
  },
  {
   "cell_type": "code",
   "execution_count": null,
   "id": "15597a03-1f8f-48e5-9b9d-975d083ef2f2",
   "metadata": {},
   "outputs": [],
   "source": [
    "selected_peaks = kemstem.fourier.select_peaks(pattern_log,zoom=300,select_conjugates=False,figsize=(5,5),delete_within=5)"
   ]
  },
  {
   "cell_type": "code",
   "execution_count": null,
   "id": "79871960-7a1a-41ce-83f3-063c2d762b07",
   "metadata": {},
   "outputs": [],
   "source": [
    "# uncomment and run to use preselected peak(s)\n",
    "#selected_peaks = np.array([[ 982.17262837,  825.96902674],\n",
    "#       [1197.99177694,  980.77114342]])"
   ]
  },
  {
   "cell_type": "markdown",
   "id": "e9bdd6f5-796d-4f2e-8605-8cb9b98cfb88",
   "metadata": {},
   "source": [
    "# Fitting FFT peaks\n",
    "Next, we fit the peaks using 2D gaussians. Here only the peak positions are important, so just refining them with e.g. center of mass is also reasonable.\n",
    "\n",
    "These peak positions are quite important as they will essentially serve as without further adjustment they will serve as the reference parameters for the following phase and strain measurements. It may be interesting to adjust the peak guess positions and/or fit parameters to test the effect of mapping the film peak, the substrate peak, and the position between the two."
   ]
  },
  {
   "cell_type": "code",
   "execution_count": null,
   "id": "feaa7623-9801-4b7b-bf7d-34d27993e019",
   "metadata": {},
   "outputs": [],
   "source": [
    "p0 = np.array(selected_peaks).T\n",
    "print(f'Selected X positions: {p0[:,1]}')\n",
    "print(f'Selected Y positions: {p0[:,0]}')\n",
    "\n",
    "peaks_ref,errs,opts,data_fits  = kemstem.fourier.refine_peaks_gf(gaussian_filter(pattern_log,1), p0, window_dimension=9,store_fits=True, remove_unfit = False)\n",
    "fig,ax = plt.subplots(1,1,constrained_layout=True,figsize=(5,5))\n",
    "kemstem.util.plot_numbered_points(pattern_log,p0,ax=ax,color='b',zoom=300)\n",
    "ax.plot(peaks_ref[:,1],peaks_ref[:,0],'r.')\n",
    "ax.axis('off')\n",
    "\n",
    "_ = kemstem.util.plot_fit_comparison(data_fits,)"
   ]
  },
  {
   "cell_type": "markdown",
   "id": "2133d694-b03b-4761-bce5-a5bec668f6c1",
   "metadata": {},
   "source": [
    "# Fourier Filtering\n",
    "One of the peaks picked and refined previously can be selected for filtering with the `peak_index` variable. For filtering, the key parameter in addition to the peak position is the width of the gaussian profile applied around the peak in the FFT to select it - this width will be inversely proportional to the resulting resolution or coarsening length of the fourier filtered signal and its derivatives (the extracted phase and strain maps), but choosing too large of a filter will incorporate harmful noise in the filtered signal. This is set with the `sigma` variable that determines the standard deviation of the gaussian profile in k-space. The real space coarsening length corresponding to this filter size is visualized with the black and white coarsening markers in the bottom right of the images. "
   ]
  },
  {
   "cell_type": "code",
   "execution_count": null,
   "id": "9cee88fc-5b49-4fb6-8fbd-dc7f952d841b",
   "metadata": {},
   "outputs": [],
   "source": [
    "peak_index = 0\n",
    "sigma= 10\n",
    "filtered_im, filtered_ft, mask = kemstem.fourier.fourier_filter(pattern_c,peaks_ref[peak_index,:],sigma=sigma)\n",
    "\n",
    "fig,ax = plt.subplots(1,3,constrained_layout=True,figsize=(12,4))\n",
    "ax[0].matshow(image,cmap='gray')\n",
    "ax[0].matshow(np.abs(filtered_im),cmap='inferno',alpha=.5)\n",
    "ax[0].axis('off')\n",
    "ax[1].matshow(np.real(filtered_im),cmap='gray')\n",
    "ax[1].axis('off')\n",
    "ax[2].matshow(pattern_log,cmap='gray')\n",
    "ax[2].matshow(mask,alpha=.5,cmap='inferno')\n",
    "ax[2].axis('off')\n",
    "\n",
    "kemstem.util.coarsening_marker(ax[0],kemstem.fourier.coarsening_length(image.shape[0],sigma),edgecolor='k',facecolor='w')\n",
    "kemstem.util.coarsening_marker(ax[1],kemstem.fourier.coarsening_length(image.shape[0],sigma),edgecolor='k',facecolor='w')"
   ]
  },
  {
   "cell_type": "markdown",
   "id": "5136846b-cf19-41e4-b9e2-3ab5780fcf67",
   "metadata": {},
   "source": [
    "# Phase lock-in\n",
    "The phase of the fourier filtered signal is extracted following the approach described in [Goodge, et al. (2020)](https://doi.org/10.1017/S1431927622000125). As noted above this will depend strongly on the precise peak position used for the fourier filtering and the fourier filter width. An additional minor parameter is the additional low-pass filtered used in the lock-in process, this typically should not need to be fine tuned but may need adjustment to avoid artifacts. Usually setting this to e.g. 2x the fourier filter sigma is sufficient. "
   ]
  },
  {
   "cell_type": "code",
   "execution_count": null,
   "id": "a50099e5-f25c-4bdb-91b2-9bc21497425d",
   "metadata": {},
   "outputs": [],
   "source": [
    "phase = kemstem.fourier.phaselock(filtered_im,peaks_ref[peak_index,:],sigma=40) # different from the sigma above \n",
    "# this sigma is a parameter of the lock in analysis and should generally be larger than the sigma used for Fourier filtering\n",
    "# but should not need to be changed here\n",
    "\n",
    "fig,ax = plt.subplots(1,3,constrained_layout=True,figsize=(12,4))\n",
    "\n",
    "ax[0].matshow(image,cmap='gray')\n",
    "ax[0].axis('off')\n",
    "ax[1].matshow(np.abs(filtered_im),cmap='inferno')\n",
    "ax[1].axis('off')\n",
    "kemstem.util.plot_phase(phase,ax=ax[2])\n",
    "ax[2].axis('off')\n",
    "\n",
    "kemstem.util.coarsening_marker(ax[1],kemstem.fourier.coarsening_length(image.shape[0],sigma),edgecolor='k',facecolor='w')\n",
    "kemstem.util.coarsening_marker(ax[2],kemstem.fourier.coarsening_length(image.shape[0],sigma),edgecolor='k',facecolor='w',zorder=2)"
   ]
  },
  {
   "cell_type": "markdown",
   "id": "b5e01b71-bdb4-4fe9-af9f-e4cd259ba245",
   "metadata": {},
   "source": [
    "# Strain mapping\n",
    "Finally, strain can be mapped by calculating the phase gradient and looking at its variation along the lattice vector of interest (and normalized to the length of this vector). Artifacts can occur due to wrapping of the phase, adjusting the `mask_threshold` argument may help mitigate them. `sv` is a visualization parameter setting the saturation point of the strain map."
   ]
  },
  {
   "cell_type": "code",
   "execution_count": null,
   "id": "d5e88cca-43b2-4238-8f5c-0709be9296db",
   "metadata": {},
   "outputs": [],
   "source": [
    "# strain\n",
    "sv = .05\n",
    "\n",
    "ref_x = peaks_ref[peak_index,1]-image.shape[0]/2. \n",
    "ref_y = peaks_ref[peak_index,0]-image.shape[0]/2. \n",
    "eps_par, eps_trans = kemstem.fourier.phase_to_strain(phase, ref_x, ref_y, mask_threshold=1.)\n",
    "fig,ax = plt.subplots(1,2,constrained_layout=True,figsize=(8,4),sharex=True,sharey=True)\n",
    "ax[0].matshow(image,cmap='gray')\n",
    "ax[0].axis('off')\n",
    "ax[1].matshow(eps_par,cmap='bwr',vmin=-sv,vmax=sv)\n",
    "ax[1].axis('off')"
   ]
  }
 ],
 "metadata": {
  "kernelspec": {
   "display_name": "Python 3 (ipykernel)",
   "language": "python",
   "name": "python3"
  },
  "language_info": {
   "codemirror_mode": {
    "name": "ipython",
    "version": 3
   },
   "file_extension": ".py",
   "mimetype": "text/x-python",
   "name": "python",
   "nbconvert_exporter": "python",
   "pygments_lexer": "ipython3",
   "version": "3.10.11"
  }
 },
 "nbformat": 4,
 "nbformat_minor": 5
}
