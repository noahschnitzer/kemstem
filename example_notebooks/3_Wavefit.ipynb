{
 "cells": [
  {
   "cell_type": "markdown",
   "id": "3f4a5ccc-7f65-437d-9af8-07b0219774a2",
   "metadata": {},
   "source": [
    "# Wave-fitting for lattice distortion measurements\n",
    "This example notebook demonstrates the wave-fitting approach for measuring lattice distortions, which can be used to quantify local variations in lattice parameters/strain, local rotation, etc., without need to define a global reference. Here we apply the technique to an atomic resolution HAADF STEM image of a Ca$_2$RuO$_4$ thin film exhibiting phase coexistence.\n",
    "\n",
    "The method used is described in detail in [Smeaton, M. A., El Baggari, I., Balazs, D. M., Hanrath, T., & Kourkoutis, L. F. (2021). Mapping defect relaxation in quantum dot solids upon in situ heating. ACS nano, 15(1), 719-726.](https://doi.org/10.1021/acsnano.0c06990)\n"
   ]
  },
  {
   "cell_type": "code",
   "execution_count": null,
   "id": "adb95b48-a61d-414b-bc40-4af94429cdfe",
   "metadata": {},
   "outputs": [],
   "source": [
    "import numpy as np\n",
    "import matplotlib.pyplot as plt\n",
    "from scipy.ndimage import gaussian_filter\n",
    "from tifffile import imread\n",
    "import kemstem\n",
    "%matplotlib widget\n",
    "print(f'{kemstem.__version__=}')"
   ]
  },
  {
   "cell_type": "markdown",
   "id": "e5df38db-955c-4273-8ac1-fc6807a73365",
   "metadata": {},
   "source": [
    "# Data loading and preprocessing\n",
    "We begin by loading a low magnification atomic resolution HAADF STEM image of our film, and performing some basic preprocessing before beginning analysis. Here, the image is cropped to a square for ease of analysis and the intensity is normalized between 0 and 1 for interpretability."
   ]
  },
  {
   "cell_type": "code",
   "execution_count": null,
   "id": "03e6a60b-43d4-4c9f-9411-25b4a6fcb669",
   "metadata": {},
   "outputs": [],
   "source": [
    "filename = 'data/rI_2127 postcool 936.7 kx_0_HAADF.tif'\n",
    "image = imread(filename)\n",
    "image = image - image.min()\n",
    "image = image/image.max()\n",
    "print(f'Image shape {image.shape}, normalized to min: {image.min()}, max: {image.max()}')\n",
    "\n",
    "\n",
    "image = image[:min(image.shape),:min(image.shape)]\n",
    "print(f'Cropped to {image.shape}')\n",
    "\n",
    "pattern_log = kemstem.fourier.peakpick.prepare_fourier_pattern(image,log=True)\n",
    "pattern_c = kemstem.fourier.peakpick.prepare_fourier_pattern(image)\n",
    "\n",
    "fig,ax = plt.subplots(1,2,constrained_layout=True,figsize=(8,4))\n",
    "ax[0].matshow(image,cmap='gray')\n",
    "ax[0].axis('off')\n",
    "ax[1].matshow(pattern_log,cmap='gray')\n",
    "ax[1].axis('off')"
   ]
  },
  {
   "cell_type": "markdown",
   "id": "a907f82a-e74f-4b67-8194-127df7d46e82",
   "metadata": {},
   "source": [
    "# Identifying FFT peaks of interest\n",
    "Here we can select the lowest order in-plane peak in the FFT to analyze the relaxation of the film.\n",
    "\n",
    "The next cell allows these peaks to be picked manually, or uncomment the following cell to use a preselected set of peak positions."
   ]
  },
  {
   "cell_type": "code",
   "execution_count": null,
   "id": "8c07565c-2684-43c6-951c-a16cfbd08cf5",
   "metadata": {},
   "outputs": [],
   "source": [
    "selected_peaks = kemstem.fourier.peakpick.select_peaks(pattern_log,zoom=400,select_conjugates=False,figsize=(5,5),delete_within=5)"
   ]
  },
  {
   "cell_type": "code",
   "execution_count": null,
   "id": "fb68d114-32c4-4668-80dd-004f4090a1eb",
   "metadata": {},
   "outputs": [],
   "source": [
    "# uncomment and run to use preselected peak(s)\n",
    "#selected_peaks = np.array([[ 934.44483857],\n",
    "#       [1350.59370792]])"
   ]
  },
  {
   "cell_type": "code",
   "execution_count": null,
   "id": "3e99c7d4-9d28-4d28-9039-b8746da753f9",
   "metadata": {},
   "outputs": [],
   "source": [
    "p0 = np.array(selected_peaks).T\n",
    "print(f'X positions: {p0[:,1]}')\n",
    "print(f'Y positions: {p0[:,0]}')"
   ]
  },
  {
   "cell_type": "markdown",
   "id": "7f7625e6-f8a9-4291-98ac-06833fd7c6b2",
   "metadata": {},
   "source": [
    "# Fitting FFT peaks\n",
    "Next, we fit the peak using 2D gaussian. Here only the peak position is important, and it is not critical that our fourier mask is perfectly centered on the peak, but it will not hurt to have refined the position nicely."
   ]
  },
  {
   "cell_type": "code",
   "execution_count": null,
   "id": "8c837924-a551-4bca-93fe-e34338ea20f9",
   "metadata": {},
   "outputs": [],
   "source": [
    "peaks_ref = kemstem.fourier.peakpick.refine_peaks_com(gaussian_filter(pattern_log,1), p0, crop_window=3,iters=20,viz=False)\n",
    "fig,ax = plt.subplots(1,1,constrained_layout=True)\n",
    "kemstem.util.viz.plot_numbered_points(pattern_log,p0,ax=ax,color='b',zoom=400)\n",
    "kemstem.util.viz.plot_numbered_points(None,peaks_ref,ax=ax,color='r')\n",
    "ax.axis('off')"
   ]
  },
  {
   "cell_type": "markdown",
   "id": "0549dc9f-8604-4917-ac3c-46e62aa2248a",
   "metadata": {},
   "source": [
    "# Fourier Filtering\n",
    "Next we fourier filter the peak. The `sigma` used here will inversely relate to the resolution or coarsening length of the fourier filtered signal in real space, so it should be chosen with care as this will carry on to the wave-fitting analysis.\n",
    "The real part of the fourier filtered signal which will be fit to measure the local lattice parameter variations is plotted on the left, while the absolute value of the signal is plotted in the middle which gives a nice idea of intensity variations in the peak of interest.\n",
    "\n",
    "Coarsening markers indicate the coarsening length set by `sigma` in the bottom right of each image."
   ]
  },
  {
   "cell_type": "code",
   "execution_count": null,
   "id": "1d64284a-43fd-4629-9be3-ff735ee13783",
   "metadata": {},
   "outputs": [],
   "source": [
    "peak_index = 0\n",
    "sigma= 15\n",
    "filtered_im, filtered_ft, mask = kemstem.fourier.fourier_filter(pattern_c,peaks_ref[peak_index,:],sigma=sigma)\n",
    "\n",
    "# Real space amplitude of the selected peak is plotted below\n",
    "fig,ax = plt.subplots(1,3,constrained_layout=True,figsize=(12,4))\n",
    "ax[0].matshow(np.real(filtered_im),cmap='gray')\n",
    "ax[0].axis('off')\n",
    "ax[1].matshow(np.abs(filtered_im),cmap='inferno') # replacing np.abs with np.real will show sinusoidal\n",
    "                                               # fringe convenient for identifying dislocations\n",
    "ax[1].axis('off')\n",
    "ax[2].matshow(pattern_log,cmap='gray')\n",
    "ax[2].matshow(mask,alpha=.5,cmap='inferno')\n",
    "ax[2].axis('off')\n",
    "\n",
    "kemstem.util.coarsening_marker(ax[0],kemstem.fourier.coarsening_length(filtered_im.shape[0],sigma),facecolor='w',edgecolor='k')\n",
    "kemstem.util.coarsening_marker(ax[1],kemstem.fourier.coarsening_length(filtered_im.shape[0],sigma),facecolor='w',edgecolor='k')"
   ]
  },
  {
   "cell_type": "markdown",
   "id": "4224e9f7-152b-4b5d-ad36-cbbc50e46655",
   "metadata": {},
   "source": [
    "# Identifying wave-fitting parameters\n",
    "Wave-fitting quantifies changes in a lattice vector by fitting small patches of the real part of the real part of the Fourier filtered signal (or 'grating') from a peak of interest with sine waves. The frequency of the fit waves is inversely related to the local lattice parameter, allowing variations to be identified in this fit parameter.\n",
    "\n",
    "Two critical parameters in this process are the `patch_size`, which sets the size of each local patch of the grating to be fit and should include just a couple wavelengths of the wave, and the `patch_step`, which sets the distance between adjacent patches and consequently the sampling of the resulting maps.\n",
    "\n",
    "The `patch_size` parameter can be chosen with the below test function which shows a fit to a single patch - the patch and fit should match in periodicity and orientation, and the patch should include only a small number (but at least one) sinusoidal period."
   ]
  },
  {
   "cell_type": "code",
   "execution_count": null,
   "id": "908f65b7-c5aa-4ebe-bb5b-218c4933475e",
   "metadata": {},
   "outputs": [],
   "source": [
    "patch_size = 15\n",
    "patch_step = 10\n",
    "\n",
    "grating = np.real(filtered_im)\n",
    "grating = grating / grating.max()\n",
    "guess = kemstem.fourier.wavefit.peak_to_fit_guess(peaks_ref[peak_index,:],np.array(grating.shape))\n",
    "popt,perr,data_fits = kemstem.fourier.wavefit.test_fit(grating,patch_size,patch_step,guess,test_patch_idx = None)\n",
    "_ = kemstem.util.viz.plot_fit_comparison(data_fits,figsize=(6,3))\n"
   ]
  },
  {
   "cell_type": "markdown",
   "id": "83ba8668-7cdd-47b9-b84f-932adf16deb0",
   "metadata": {},
   "source": [
    "# Wave-fitting\n",
    "Next, we can repeat this process on patches sampled from across the entire grating to measure the local lattice parameter variations across the full image. This process is parallelized with multiprocessing - the number of fits allotted to each process can be controlled with chunksize, or left as None to sploit the work across 20 chunks"
   ]
  },
  {
   "cell_type": "code",
   "execution_count": null,
   "id": "c963d02d-bb5b-4bdf-8931-38073444c778",
   "metadata": {},
   "outputs": [],
   "source": [
    "amplitude,spacing,rotation,sampled_points = kemstem.fourier.wavefit.fit_grating(grating,patch_size,patch_step,guess,chunksize=None)\n"
   ]
  },
  {
   "cell_type": "markdown",
   "id": "edb39677-1354-4e17-9131-3cc53f663193",
   "metadata": {},
   "source": [
    "The local amplitude, spacing, and rotation are returned for each patch fit, as well as the positions of the patches (`sampled_points`). The spacing is visualized below, which shows signficant changes between the calcium ruthenate film and lanthanum aluminate substrate, as well as striped variations within the film indicating the coexistence of multiple structural phases"
   ]
  },
  {
   "cell_type": "code",
   "execution_count": null,
   "id": "f11ce5d2-caa3-47c3-ac84-15958188b6ae",
   "metadata": {},
   "outputs": [],
   "source": [
    "def clip_intensities(data,pct):\n",
    "    return (np.percentile(data.ravel(),pct), np.percentile(data.ravel(),100-pct))\n",
    "clipvals = clip_intensities(spacing,1)\n",
    "fig,ax = plt.subplots(1,1,constrained_layout=True)\n",
    "ax.matshow(spacing,vmin=clipvals[0],vmax=clipvals[1])"
   ]
  },
  {
   "cell_type": "markdown",
   "id": "1cd8da5f-ecf9-4c3f-866d-42f8074b0e10",
   "metadata": {},
   "source": [
    "For ease of comparison with the original STEM image, the wavefitting results can be resampled (interpolated) to match its dimensions."
   ]
  },
  {
   "cell_type": "code",
   "execution_count": null,
   "id": "90985141-5e83-43ae-b851-df1a31199a11",
   "metadata": {},
   "outputs": [],
   "source": [
    "resized = kemstem.util.general.rasterize_from_points(sampled_points,spacing,grating.shape)\n",
    "fig,ax= plt.subplots(1,1,constrained_layout=True)\n",
    "ax.matshow(image,cmap='gray')\n",
    "ax.matshow(resized,alpha=.6,cmap='plasma',vmin=5.4,vmax=5.6)\n",
    "#ax.plot(sampled_points[:,0],sampled_points[:,1],'r.',alpha=.3)\n",
    "ax.axis('off')"
   ]
  }
 ],
 "metadata": {
  "kernelspec": {
   "display_name": "Python 3 (ipykernel)",
   "language": "python",
   "name": "python3"
  },
  "language_info": {
   "codemirror_mode": {
    "name": "ipython",
    "version": 3
   },
   "file_extension": ".py",
   "mimetype": "text/x-python",
   "name": "python",
   "nbconvert_exporter": "python",
   "pygments_lexer": "ipython3",
   "version": "3.10.11"
  }
 },
 "nbformat": 4,
 "nbformat_minor": 5
}
